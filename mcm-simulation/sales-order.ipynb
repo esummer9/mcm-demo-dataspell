{
 "cells": [
  {
   "metadata": {},
   "cell_type": "code",
   "source": "!pip install -e /Users/esummer/workspace/python/my-python-utils-main",
   "id": "c88a8ac985d1362b",
   "outputs": [],
   "execution_count": null
  },
  {
   "cell_type": "code",
   "id": "initial_id",
   "metadata": {
    "collapsed": true
   },
   "source": [
    "import json\n",
    "import os\n",
    "\n",
    "from slugify import slugify\n",
    "import csv\n",
    "\n",
    "import logging\n",
    "import time\n",
    "import random\n",
    "import pandas as pd\n",
    "from datetime import datetime\n",
    "from zoneinfo import ZoneInfo\n",
    "\n",
    "import requests\n",
    "from selenium import webdriver\n",
    "from selenium.webdriver.common.by import By\n",
    "\n",
    "from selenium.webdriver.support.ui import WebDriverWait\n",
    "from selenium.webdriver.support import expected_conditions as EC\n",
    "\n",
    "from selenium.webdriver.firefox.options import Options\n",
    "from selenium.webdriver.firefox.firefox_profile import FirefoxProfile\n",
    "\n",
    "from zoneinfo import ZoneInfo\n",
    "\n",
    "import re"
   ],
   "outputs": [],
   "execution_count": null
  },
  {
   "metadata": {},
   "cell_type": "code",
   "source": [
    "my_items = '''MMKGSVE04BK001\n",
    "MMKGSVE05BK001\n",
    "MMKGSVE06BK001\n",
    "MMKGSVE08CO001\n",
    "MMKGSVE09BK001\n",
    "MMLGSTA02BK001\n",
    "MMLGSTA03BK001\n",
    "MMRGSAK01BK001\n",
    "MMRGSAK01CO001\n",
    "MMRGSAK02BK001\n",
    "MMRGSAK02CO001\n",
    "MMRGSTA05BK001\n",
    "MMRGSTA06SV001\n",
    "MMRGSTA07PZ001\n",
    "MMTGSTA01CO001\n",
    "MMTGSTA02CO001\n",
    "MMTGSTA03BK001\n",
    "MMTGSTA04BK001\n",
    "MMTGSTA04CO001\n",
    "MMTGSTA05CO001\n",
    "MMZGSFI01BK001\n",
    "MMZGSFI02BK001\n",
    "MMZGSFI03CO001\n",
    "MWBGSEA01BK001\n",
    "MWBGSEA03Q6001\n",
    "MWBGSEA03QA001\n",
    "MWBGSEA04CO001\n",
    "MWBGSEA05BK001\n",
    "MWBGSEA06BK001\n",
    "MWBGSEA07BK001\n",
    "MWCGSAK01BK001\n",
    "MWDGSDU01BK001\n",
    "MWDGSDU01Q6001\n",
    "MWDGSDU01QA001\n",
    "MWDGSDU02CO001\n",
    "MWDGSDU03CO001\n",
    "MWEGSXT01CO001\n",
    "MWHGSTA03BK001\n",
    "MWHGSTA03Q6001\n",
    "MWHGSTA03QA001\n",
    "MWHGSTA04BK001\n",
    "MWHGSTA04PZ001\n",
    "MWKGSAK01BK001\n",
    "MWKGSTA01Q6001\n",
    "MWKGSTA01QA001\n",
    "MWPGSAC01L8001\n",
    "MWPGSLR02BK001\n",
    "MWPGSLR02CO001\n",
    "MWPGSLR02PZ001\n",
    "MWPGSLR03BK001\n",
    "MWPGSLR03CO001\n",
    "MWPGSLR03PZ001\n",
    "MWPGSLR04BK001\n",
    "MWPGSLR04CO001\n",
    "MWPGSLR05BK001\n",
    "MWPGSLR05CO001\n",
    "MWPGSMT04BK001\n",
    "MWPGSMT04QA001\n",
    "MWPGSMT05BK001\n",
    "MWPGSMT06CO001\n",
    "MWPGSMT07CO001\n",
    "MWPGSMT10BK001\n",
    "MWPGSMT12L8001\n",
    "MWPGSTA01PZ001\n",
    "MWRGSTA01BK001\n",
    "MWRGSTA01OQ001\n",
    "MWRGSTA02CO001\n",
    "MWRGSTA02PZ001\n",
    "MWRGSTA03BK001\n",
    "MWRGSXT01BK001\n",
    "MWRGSXT01CO001\n",
    "MWSGSAK01BK001\n",
    "MWSGSTA01BK001\n",
    "MWSGSTA01OQ001\n",
    "MWSGSTA02CO001\n",
    "MWSGSTA04BW001\n",
    "MWSGSTA05BW001\n",
    "MWSGSTA05BW001\n",
    "MWTGSBO02BK001\n",
    "MWTGSMA01BK001\n",
    "MWTGSMA02BK001\n",
    "MWTGSMA02QA001\n",
    "MWTGSTA02BK001\n",
    "MWTGSTA03PZ001\n",
    "MWZGSAK01BK001\n",
    "MXBGSCJ01BK001\n",
    "MXBGSCJ02CO001\n",
    "MXBGSTA02BK080\n",
    "MXBGSTA03BK080\n",
    "MXBGSTA04BK001\n",
    "MXBGSTA05BK001\n",
    "MXZFAAK01BK001\n",
    "MXZGSAK02BK001\n",
    "MXZGSKS01BK001\n",
    "MYZDSTA09PZ001\n",
    "MYZFSTA01Q6001\n",
    "MYZGSTA01CO001\n",
    "MYZGSTA02CO001\n",
    "MYZGSTA03BK001\n",
    "MYZGSTA04L8001\n",
    "MYZGSTA05CO001\n",
    "MYZGSTA06BK001\n",
    "MYZGSTA06CO001\n",
    "MYZGSTA07QA001\n",
    "MYZGSTA08PZ001'''.split('\\n')\n",
    "\n",
    "\n",
    "\n",
    "import random\n",
    "\n",
    "\n",
    "# 임의로 10개 선택\n",
    "selected_items = random.sample(my_items, 10)\n",
    "\n",
    "print(selected_items)\n",
    "\n",
    "df = pd.DataFrame(selected_items, columns=['SKU'])"
   ],
   "id": "6576dab53f496461",
   "outputs": [],
   "execution_count": null
  },
  {
   "metadata": {},
   "cell_type": "markdown",
   "source": "## 기준정보 테이블 읽기",
   "id": "37e6943a6f9dd890"
  },
  {
   "metadata": {},
   "cell_type": "code",
   "source": [
    "df_products = pd.read_excel('../excel-input/00.기준정보 테이블__Products.xlsx', header=0)\n",
    "df_regions = pd.read_excel('../excel-input/00.기준정보 테이블__Regions.xlsx', header=0)\n",
    "df_vendor = pd.read_excel('../excel-input/00.기준정보 테이블__Vendors.xlsx', header=0)\n",
    "df_catetorys = pd.read_excel('../excel-input/00.기준정보 테이블__Catetorys.xlsx', header=0)"
   ],
   "id": "5384df553281c9aa",
   "outputs": [],
   "execution_count": null
  },
  {
   "metadata": {},
   "cell_type": "markdown",
   "source": "## Production 마스터 데이터 읽어 오기",
   "id": "3af77e5615b50da4"
  },
  {
   "metadata": {
    "ExecuteTime": {
     "end_time": "2025-08-13T07:06:32.095631Z",
     "start_time": "2025-08-13T07:06:16.984960Z"
    }
   },
   "cell_type": "code",
   "source": [
    "df_production_origin = pd.read_excel('../excel-input/00.3.Production 마스터 (생산본부)__Production Sample.xlsx', header=0)\n",
    "df_production_origin.info()"
   ],
   "id": "7ca0a8886514bf37",
   "outputs": [
    {
     "name": "stdout",
     "output_type": "stream",
     "text": [
      "<class 'pandas.core.frame.DataFrame'>\n",
      "RangeIndex: 10786 entries, 0 to 10785\n",
      "Data columns (total 60 columns):\n",
      " #   Column                              Non-Null Count  Dtype         \n",
      "---  ------                              --------------  -----         \n",
      " 0   NO                                  10786 non-null  int64         \n",
      " 1   LAUNCHING                           3613 non-null   object        \n",
      " 2   PO DATE                             10786 non-null  datetime64[ns]\n",
      " 3   Program                             10786 non-null  object        \n",
      " 4   Order Type                          10786 non-null  object        \n",
      " 5   Category                            10786 non-null  object        \n",
      " 6   Vendor                              10786 non-null  object        \n",
      " 7   Channel                             10786 non-null  object        \n",
      " 8   PO No                               10786 non-null  object        \n",
      " 9   PO No (SAP)                         10771 non-null  object        \n",
      " 10  (Contractual) Ex Fty Month          10783 non-null  object        \n",
      " 11  (Contractual ) Ex Fty Year          10775 non-null  float64       \n",
      " 12  Line Name                           10786 non-null  object        \n",
      " 13  item                                10786 non-null  object        \n",
      " 14  Description                         10786 non-null  object        \n",
      " 15  PO  Q'ty                            10786 non-null  float64       \n",
      " 16  Finished                            10786 non-null  int64         \n",
      " 17  In Production                       10786 non-null  int64         \n",
      " 18  Progress                            10770 non-null  float64       \n",
      " 19  Adjustment Remarks Date             78 non-null     object        \n",
      " 20  Adjustment Remarks Reason           77 non-null     object        \n",
      " 21  Adjustment Remarks Qty              56 non-null     object        \n",
      " 22  (GMD) ON TIME / DELAY               10770 non-null  object        \n",
      " 23  (GMD) Contractual Ex fty            10784 non-null  object        \n",
      " 24  Delay days (by Contractual Ex-fty)  7190 non-null   object        \n",
      " 25  (GMD) Revised Ex fty                675 non-null    object        \n",
      " 26  Delay days (by Revised Ex-fty)      7285 non-null   object        \n",
      " 27  (Vendor) ON TIME/ DELAY             1770 non-null   object        \n",
      " 28  (Vendor) Contractual Ex fty         10784 non-null  object        \n",
      " 29  (Vendor) Revised Ex fty             10784 non-null  object        \n",
      " 30  수출/내수 포장변경                          1 non-null      float64       \n",
      " 31  미국수출포장 (Compressed Pack)            49 non-null     float64       \n",
      " 32  선입고 요청                              2211 non-null   object        \n",
      " 33  PM Comment                          5926 non-null   object        \n",
      " 34  NFC CHIP   (from VRD)               411 non-null    object        \n",
      " 35  1st date                            10465 non-null  datetime64[ns]\n",
      " 36  1st qty                             10465 non-null  float64       \n",
      " 37  2nd date                            266 non-null    datetime64[ns]\n",
      " 38  2nd qty                             266 non-null    float64       \n",
      " 39  3rd date                            66 non-null     object        \n",
      " 40  3rd qty                             66 non-null     float64       \n",
      " 41  4th date                            15 non-null     datetime64[ns]\n",
      " 42  4th qty                             15 non-null     float64       \n",
      " 43  5th date                            9 non-null      datetime64[ns]\n",
      " 44  5th qty                             9 non-null      float64       \n",
      " 45  6th date                            4 non-null      datetime64[ns]\n",
      " 46  6th qty                             4 non-null      float64       \n",
      " 47  7th date                            3 non-null      object        \n",
      " 48  7th qty                             3 non-null      float64       \n",
      " 49  Delayed Category                    919 non-null    object        \n",
      " 50  Delayed Reason                      3 non-null      object        \n",
      " 51  VDR CONT XFTY - VDR RVSD XFTY       10365 non-null  float64       \n",
      " 52  Ex Fty (for on time status)         10666 non-null  object        \n",
      " 53  Ex Fty Month (for on time status)   10666 non-null  object        \n",
      " 54  Early Finished                      10666 non-null  float64       \n",
      " 55  On Time Finished                    10666 non-null  float64       \n",
      " 56  On Time Pending                     10665 non-null  float64       \n",
      " 57  Delay Finished                      10666 non-null  float64       \n",
      " 58  Delay Pending                       10665 non-null  float64       \n",
      " 59  Delay Total                         10665 non-null  float64       \n",
      "dtypes: datetime64[ns](6), float64(19), int64(3), object(32)\n",
      "memory usage: 4.9+ MB\n"
     ]
    }
   ],
   "execution_count": 59
  },
  {
   "metadata": {
    "ExecuteTime": {
     "end_time": "2025-08-13T07:12:30.535578Z",
     "start_time": "2025-08-13T07:12:30.526568Z"
    }
   },
   "cell_type": "code",
   "source": [
    "filtered_notna = df_production_origin[df_production_origin['PO  Q\\'ty'].notna()]\n",
    "\n",
    "# filtered_notna[:10].to_json('../excel-output/df_production_sample_template#1.json', orient='records')\n",
    "filtered_notna[:10][['item',\"PO  Q'ty\", '(Contractual) Ex Fty Month','Category','Line Name', 'Order Type','Program','(GMD) Contractual Ex fty','Vendor', 'Channel']].to_json('../excel-output/df_production_sample_template#1_filter.json', orient='records')\n"
   ],
   "id": "a1a4e9095d372c1",
   "outputs": [],
   "execution_count": 62
  },
  {
   "metadata": {},
   "cell_type": "markdown",
   "source": "## 주문 데이터의 각 컬럼별 info()",
   "id": "9cdbf351af67f80b"
  },
  {
   "metadata": {},
   "cell_type": "code",
   "source": [
    "from io import StringIO\n",
    "\n",
    "df_production_sample = df_production_origin.copy()\n",
    "\n",
    "df_production_sample.columns = df_production_sample.columns.str.replace(' ', '__')\n",
    "\n",
    "\n",
    "buf = StringIO()\n",
    "df_production_sample.info(buf=buf)\n",
    "info_str = buf.getvalue()\n",
    "\n",
    "# 2. info 문자열을 줄 단위로 나눔\n",
    "lines = info_str.strip().split(\"\\n\")\n",
    "\n",
    "# 3. 컬럼 정보 라인만 추출 (인덱스, 컬럼명, Non-Null Count, Dtype)\n",
    "data_lines = [line.strip() for line in lines if \"non-null\" in line]\n",
    "\n",
    "# 4. 공백 기준 분리 후 DataFrame 생성\n",
    "info_data = []\n",
    "for line in data_lines:\n",
    "    parts = line.split()\n",
    "    col_name = parts[1]\n",
    "    non_null = parts[2]\n",
    "    dtype = parts[-1]\n",
    "    info_data.append([col_name, non_null, dtype])\n",
    "\n",
    "info_df = pd.DataFrame(info_data, columns=[\"Column\", \"Non-Null Count\", \"Dtype\"])\n",
    "\n",
    "# 5. 엑셀로 저장\n",
    "info_df.to_excel(\"../excel-output/df_production_sample_info.xlsx\", index=False)\n",
    "df_production_sample.to_excel(\"../excel-output/df_production_sample_data.xlsx\", index=False)"
   ],
   "id": "ec800e04bfdc8172",
   "outputs": [],
   "execution_count": null
  },
  {
   "metadata": {},
   "cell_type": "markdown",
   "source": "",
   "id": "4aeeb8bea6eaa75d"
  },
  {
   "metadata": {},
   "cell_type": "markdown",
   "source": "## 코드성 컬럼값 추출",
   "id": "4a3e8cc5a5016d24"
  },
  {
   "metadata": {},
   "cell_type": "code",
   "source": [
    "# a 컬럼의 값 종류별 카운트\n",
    "columns = ['Order__Type', 'Program','Category',\t'Vendor',\t'Channel',\t'Line__Name', 'PO__No__(SAP)', 'PO__No']\n",
    "for column in columns:\n",
    "    count_df = df_production_sample[column].value_counts().reset_index()\n",
    "\n",
    "    # 컬럼명 변경\n",
    "    count_df.columns = [f\"{column} 값\", \"count\"]\n",
    "    count_df.to_excel(f\"../excel-output/df_production_컬럼값_{column}_data-{len(count_df)}-건.xlsx\", index=False)"
   ],
   "id": "15f19b064f796828",
   "outputs": [],
   "execution_count": null
  },
  {
   "metadata": {
    "ExecuteTime": {
     "end_time": "2025-08-13T07:08:03.188585Z",
     "start_time": "2025-08-13T07:08:03.183583Z"
    }
   },
   "cell_type": "code",
   "source": "df_production_sample[:10].to_json('../excel-output/df_production_sample_template_#2.json', orient='records')",
   "id": "b6a12de10ca03c9a",
   "outputs": [],
   "execution_count": 60
  },
  {
   "metadata": {
    "ExecuteTime": {
     "end_time": "2025-08-13T07:12:25.247769Z",
     "start_time": "2025-08-13T07:12:21.697907Z"
    }
   },
   "cell_type": "code",
   "source": [
    "df_production_sample_2 = pd.read_excel('../excel-input/★1. Q12 26(SS26) Selling_initial_out_0630_V2_Sample.xlsx')\n",
    "df_production_sample_2.info()\n",
    "\n",
    "filtered_notna = df_production_sample_2[df_production_sample_2['WW ORDER QTY'].notna()]\n",
    "\n",
    "# filtered_notna[:10].to_json('../excel-output/df_production_sample_2_all.json', orient='records')\n",
    "filtered_notna[:10][['ITEM#','WW ORDER QTY','MOQ','EX-FTY DATE','CATEGORY','LINE NAME','GMD MASTER ORDER','LAUNCHING MONTH','DEPARTMENT','OTB Cate']].to_json('../excel-output/df_production_sample_template#2_filter.json', orient='records')"
   ],
   "id": "fb81c60ea9f77696",
   "outputs": [
    {
     "name": "stdout",
     "output_type": "stream",
     "text": [
      "<class 'pandas.core.frame.DataFrame'>\n",
      "RangeIndex: 519 entries, 0 to 518\n",
      "Columns: 392 entries, No to GB\n",
      "dtypes: float64(9), int64(1), object(382)\n",
      "memory usage: 1.6+ MB\n"
     ]
    }
   ],
   "execution_count": 61
  },
  {
   "metadata": {},
   "cell_type": "markdown",
   "source": "## 코드성 컬럼의 숫자 집계",
   "id": "82e660035eb4e2d3"
  },
  {
   "metadata": {},
   "cell_type": "code",
   "source": [
    "unique_values = df_production_sample[['Order__Type', 'Program']].drop_duplicates()\n",
    "unique_values.sort_values(by=['Order__Type', 'Program'], ascending=[True,True]).to_excel(f\"../excel-output/df_production_컬럼값_[Order__Type & Program]_data-{len(unique_values)}-건.xlsx\", index=False)\n",
    "\n",
    "unique_values = df_production_sample[['Order__Type', 'Category']].drop_duplicates()\n",
    "unique_values.sort_values(by=['Order__Type', 'Category'], ascending=[True,True]).to_excel(f\"../excel-output/df_production_컬럼값_[Order__Type & Category]_data-{len(unique_values)}-건.xlsx\", index=False)\n",
    "\n",
    "unique_values = df_production_sample[['Category', 'Order__Type']].drop_duplicates()\n",
    "unique_values.sort_values(by=['Category', 'Order__Type'], ascending=[True,True]).to_excel(f\"../excel-output/df_production_컬럼값_[Category & Order__Type]_data-{len(unique_values)}-건.xlsx\", index=False)\n",
    "\n",
    "unique_values = df_production_sample[['Program', 'Order__Type']].drop_duplicates()\n",
    "unique_values.sort_values(by=['Program', 'Order__Type'], ascending=[True,True]).to_excel(f\"../excel-output/df_production_컬럼값_[Program & Order__Type]_data-{len(unique_values)}-건.xlsx\", index=False)\n"
   ],
   "id": "22eb13c4dcc1334d",
   "outputs": [],
   "execution_count": null
  },
  {
   "metadata": {},
   "cell_type": "markdown",
   "source": "## 코드성 컬럼의 그룹바이 집계",
   "id": "2b038b458f0dac85"
  },
  {
   "metadata": {},
   "cell_type": "code",
   "source": [
    "counts_groupby = df_production_sample.groupby(['Category', 'Order__Type']).size().reset_index(name='건수')\n",
    "counts_groupby.to_excel(f\"../excel-output/df_production_컬럼값_[Category & Order__Type]_groupby-{len(counts_groupby)}-건.xlsx\", index=True)"
   ],
   "id": "3b90821551524fbb",
   "outputs": [],
   "execution_count": null
  },
  {
   "metadata": {},
   "cell_type": "code",
   "source": [
    "counts_groupby = df_production_sample.groupby(['Line__Name', 'item']).size().reset_index(name='건수')\n",
    "counts_groupby.to_excel(f\"../excel-output/df_production_컬럼값_[Line__Name & item]_groupby-{len(counts_groupby)}-건.xlsx\", index=True)\n",
    "\n",
    "counts_groupby = df_production_sample.groupby(['item', 'Line__Name']).size().reset_index(name='건수')\n",
    "counts_groupby.to_excel(f\"../excel-output/df_production_컬럼값_[item & Line__Name]_groupby-{len(counts_groupby)}-건.xlsx\", index=True)"
   ],
   "id": "35c005441cf678d7",
   "outputs": [],
   "execution_count": null
  },
  {
   "metadata": {},
   "cell_type": "markdown",
   "source": "## Production Head 구분 기준",
   "id": "8e8894b79399cb0d"
  },
  {
   "metadata": {},
   "cell_type": "code",
   "source": [
    "counts_groupby = df_production_sample.groupby(['Program', 'Order__Type', 'Channel', '(Contractual)__Ex__Fty__Month']).size().reset_index(name='건수')\n",
    "counts_groupby.to_excel(f\"../excel-output/df_production_컬럼값_[Program & Order__Type & Channel]_groupby-{len(counts_groupby)}-건.xlsx\", index=True)"
   ],
   "id": "a1b51d87cd357dee",
   "outputs": [],
   "execution_count": null
  },
  {
   "metadata": {},
   "cell_type": "code",
   "source": [
    "import pandas as pd\n",
    "import numpy as np\n",
    "from pathlib import Path\n",
    "from datetime import datetime\n",
    "#\n",
    "# html = df_production_sample.to_html(index=False)\n",
    "# Path(\"df_simple.html\").write_text(html, encoding=\"utf-8\")\n",
    "\n",
    "from pydantic_settings import BaseSettings\n",
    "\n",
    "import pandas as pd\n",
    "from pandas_profiling import ProfileReport\n",
    "\n",
    "profile = ProfileReport(df_production_sample)\n",
    "\n",
    "profile.to_file(output_file=f\"df_production_sample.html\") # html\n"
   ],
   "id": "a391337d260d8370",
   "outputs": [],
   "execution_count": null
  },
  {
   "metadata": {},
   "cell_type": "code",
   "source": [
    "# !pip uninstall pandas-profiling\n",
    "!pip install pandas-profiling"
   ],
   "id": "b1186ad54ee350c4",
   "outputs": [],
   "execution_count": null
  },
  {
   "metadata": {},
   "cell_type": "code",
   "source": "!python3 -m pip install --upgrade pip",
   "id": "d6494d17f4264703",
   "outputs": [],
   "execution_count": null
  },
  {
   "metadata": {},
   "cell_type": "code",
   "source": " !pip install pydantic-settings",
   "id": "8d102bb2ef755371",
   "outputs": [],
   "execution_count": null
  }
 ],
 "metadata": {
  "kernelspec": {
   "display_name": "Python 3",
   "language": "python",
   "name": "python3"
  },
  "language_info": {
   "codemirror_mode": {
    "name": "ipython",
    "version": 2
   },
   "file_extension": ".py",
   "mimetype": "text/x-python",
   "name": "python",
   "nbconvert_exporter": "python",
   "pygments_lexer": "ipython2",
   "version": "2.7.6"
  }
 },
 "nbformat": 4,
 "nbformat_minor": 5
}
